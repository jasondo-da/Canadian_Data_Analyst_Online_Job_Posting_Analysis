{
 "cells": [
  {
   "cell_type": "markdown",
   "metadata": {},
   "source": [
    "# Canadian Data Analyst Job Listing Analysis\n",
    "\n",
    "## Table of Contents <a id='back'></a>\n",
    "- [Project Introduction](#project-introduction)\n",
    "    - [Analysis Outline](#analysis-outline)\n",
    "    - [Results](#results)\n",
    "- [Importing Libraries and Opening Data Files](#importing-libraries-and-opening-data-files)\n",
    "- [Pre-Processing Data](#pre-processing-data)\n",
    "    - [Duplicates](#duplicates)\n",
    "    - [Missing Values](#missing-values)\n",
    "    - [Removing Irrelevant Data](#removing-irrelevant-data)\n",
    "    - [Data Structure Overhaul](#data-structure-overhaul)\n",
    "        - [Header Style](#header-style)\n",
    "        - [Formatting and Data Usage](#formatting-and-data-usage)\n",
    "- [Exploratory Data Analysis](#exploratory-data-analysis)\n",
    "- [Conclusions and Reccomendations](#conclusions-and-reccomendations)\n",
    "- [Dataset Citation](#dataset-citation)"
   ]
  },
  {
   "cell_type": "markdown",
   "metadata": {},
   "source": [
    "## Project Introduction\n",
    "\n",
    "2024 has been a difficult year for entry-level data science jobs and for this project, I am interested in analyzing the data science field job market. For this project, I am utilizing a Kaggle-based dataset that web-scraped Indeed and Glassdoor Canadian job postings for data using Selenium and BeautifulSoup. This dataset provides multiple interesting insights into the data science job market such as in-demand technical skills, expected work experience, and salary ranges.  \n",
    "\n",
    "### Analysis Outline\n",
    "\n",
    "[Analysis Outline]\n",
    "\n",
    "### Results\n",
    "\n",
    "[Results]\n"
   ]
  },
  {
   "cell_type": "markdown",
   "metadata": {},
   "source": [
    "[Back to Table of Contents](#back)"
   ]
  },
  {
   "cell_type": "markdown",
   "metadata": {},
   "source": [
    "## Importing Libraries and Opening Data Files"
   ]
  },
  {
   "cell_type": "code",
   "execution_count": 1,
   "metadata": {},
   "outputs": [],
   "source": [
    "# Importing the needed libraries for this assignment\n",
    "import pandas as pd\n",
    "import numpy as np\n",
    "from matplotlib import pyplot as plt\n",
    "import seaborn as sns\n",
    "import folium"
   ]
  },
  {
   "cell_type": "code",
   "execution_count": 2,
   "metadata": {},
   "outputs": [],
   "source": [
    "# Importing file for assignment\n",
    "try:\n",
    "    df = pd.read_csv('Raw_Dataset.csv', sep=',')\n",
    "except:\n",
    "    df = pd.read_csv('/datasets/Raw_Dataset.csv', sep=',')"
   ]
  },
  {
   "cell_type": "markdown",
   "metadata": {},
   "source": [
    "[Back to Table of Contents](#back)"
   ]
  },
  {
   "cell_type": "markdown",
   "metadata": {},
   "source": [
    "## Pre-Processing Data\n",
    "\n",
    "### Duplicates"
   ]
  },
  {
   "cell_type": "code",
   "execution_count": null,
   "metadata": {},
   "outputs": [],
   "source": [
    "# Checking for duplicates\n",
    "df.duplicated().sum()"
   ]
  },
  {
   "cell_type": "markdown",
   "metadata": {},
   "source": [
    "[Back to Table of Contents](#back)"
   ]
  },
  {
   "cell_type": "markdown",
   "metadata": {},
   "source": [
    "### Missing Values"
   ]
  },
  {
   "cell_type": "code",
   "execution_count": null,
   "metadata": {},
   "outputs": [],
   "source": [
    "# Checking for null values\n",
    "df.isna().sum()"
   ]
  },
  {
   "cell_type": "code",
   "execution_count": null,
   "metadata": {},
   "outputs": [],
   "source": [
    "# Filling in null values\n",
    "df.fillna({'Language and Tools': 'unknown',\n",
    "           'Job Salary' : 'unknown',\n",
    "           'Province' : 'unknown'}, inplace = True)\n",
    "df.isna().sum()"
   ]
  },
  {
   "cell_type": "markdown",
   "metadata": {},
   "source": [
    "[Back to Table of Contents](#back)"
   ]
  },
  {
   "cell_type": "markdown",
   "metadata": {},
   "source": [
    "### Removing Irrelevant Data"
   ]
  },
  {
   "cell_type": "code",
   "execution_count": null,
   "metadata": {},
   "outputs": [],
   "source": [
    "# Removing columns we do not need for this analysis\n",
    "df = df.drop(columns=['Job ID'])\n",
    "df.info()"
   ]
  },
  {
   "cell_type": "markdown",
   "metadata": {},
   "source": [
    "[Back to Table of Contents](#back)"
   ]
  },
  {
   "cell_type": "markdown",
   "metadata": {},
   "source": [
    "### Data Structure Overhaul"
   ]
  },
  {
   "cell_type": "code",
   "execution_count": null,
   "metadata": {},
   "outputs": [],
   "source": [
    "df.describe()"
   ]
  },
  {
   "cell_type": "markdown",
   "metadata": {},
   "source": [
    "#### Header Style"
   ]
  },
  {
   "cell_type": "code",
   "execution_count": null,
   "metadata": {},
   "outputs": [],
   "source": [
    "# Getting general information about the dataset\n",
    "df.info()\n",
    "df.head()"
   ]
  },
  {
   "cell_type": "code",
   "execution_count": null,
   "metadata": {},
   "outputs": [],
   "source": [
    "#checking for snakecase format\n",
    "df.columns"
   ]
  },
  {
   "cell_type": "code",
   "execution_count": null,
   "metadata": {},
   "outputs": [],
   "source": [
    "# Renaming column names to snake_case format\n",
    "df = df.rename(columns={'Job Title': 'job_title',\n",
    "                        'Company Name': 'employer_name',\n",
    "                        'Language and Tools': 'tech_skills',\n",
    "                        'Job Salary': 'salary',\n",
    "                        'City': 'city',\n",
    "                        'Province': 'province',\n",
    "                        'Job Link': 'web_platform'})\n",
    "df.columns"
   ]
  },
  {
   "cell_type": "markdown",
   "metadata": {},
   "source": [
    "[Back to Table of Contents](#back)"
   ]
  },
  {
   "cell_type": "markdown",
   "metadata": {},
   "source": [
    "#### Formatting and Data Usage"
   ]
  },
  {
   "cell_type": "code",
   "execution_count": null,
   "metadata": {},
   "outputs": [],
   "source": [
    "df.info()\n",
    "df.head()"
   ]
  },
  {
   "cell_type": "code",
   "execution_count": null,
   "metadata": {},
   "outputs": [],
   "source": [
    "# Changing all elements into snakecase format\n",
    "for column in df.columns:\n",
    "  df[column] = df[column].str.lower()\n",
    "  df[column] = df[column].str.replace(' ', '_')\n",
    "\n",
    "df.head()"
   ]
  },
  {
   "cell_type": "markdown",
   "metadata": {},
   "source": [
    "experience level"
   ]
  },
  {
   "cell_type": "code",
   "execution_count": null,
   "metadata": {},
   "outputs": [],
   "source": [
    "df['job_title'].unique()"
   ]
  },
  {
   "cell_type": "code",
   "execution_count": null,
   "metadata": {},
   "outputs": [],
   "source": [
    "df['job_title'] = df['job_title'].str.replace('[^a-zA-Z0-9_]', '')\n",
    "\n",
    "def exp_level(value):\n",
    "    if 'senior' in value:\n",
    "        return 'mid-senior'\n",
    "    \n",
    "    if 'sr' in value:\n",
    "        return 'mid-senior'\n",
    "    \n",
    "    if 'lead' in value:\n",
    "        return 'mid-senior'\n",
    "    \n",
    "    elif 'jr' in value:\n",
    "        return 'associate'\n",
    "    \n",
    "    elif 'junior' in value:\n",
    "        return 'associate'\n",
    "    \n",
    "    elif 'intermediate' in value:\n",
    "        return 'associate'\n",
    "    \n",
    "    elif 'entry' in value:\n",
    "        return 'entry-level'\n",
    "    \n",
    "    elif 'intern' in value:\n",
    "        return 'internship'\n",
    "    \n",
    "    elif 'student' in value:\n",
    "        return 'internship'\n",
    "    \n",
    "    else:\n",
    "        return 'any'\n",
    "\n",
    "df['experience_level'] = df['job_title'].apply(exp_level)\n",
    "df['experience_level'].unique()"
   ]
  },
  {
   "cell_type": "markdown",
   "metadata": {},
   "source": [
    "job title"
   ]
  },
  {
   "cell_type": "code",
   "execution_count": null,
   "metadata": {},
   "outputs": [],
   "source": [
    "df['job_title'].unique()"
   ]
  },
  {
   "cell_type": "code",
   "execution_count": null,
   "metadata": {},
   "outputs": [],
   "source": [
    "def clean_title(value):\n",
    "    if 'data_analyst' in value:\n",
    "        return 'data_analyst'\n",
    "    \n",
    "    elif 'scientist' in value:\n",
    "        return 'data_scientist'\n",
    "    \n",
    "    elif 'engineer' in value:\n",
    "        return 'data_engineer'\n",
    "    \n",
    "    elif 'business_intelligence' in value:\n",
    "        return 'business_intelligence_analyst'\n",
    "    \n",
    "    elif 'business_system' in value:\n",
    "        return 'business_systems_analyst'\n",
    "    \n",
    "    elif 'business_analyst' in value:\n",
    "        return 'business_analyst'\n",
    "    \n",
    "    elif 'research' in value:\n",
    "        return 'research_analyst'\n",
    "    \n",
    "    elif 'quality' in value:\n",
    "        return 'quality_analyst'\n",
    "    \n",
    "    elif 'marketing' in value:\n",
    "        return 'marketing_analyst'\n",
    "    \n",
    "    elif 'risk' in value:\n",
    "        return 'risk_analyst'\n",
    "    \n",
    "    elif 'investment' in value:\n",
    "        return 'financial_analyst'\n",
    "    \n",
    "    elif 'asset' in value:\n",
    "        return 'financial_analyst'\n",
    "    \n",
    "    elif 'bank' in value:\n",
    "        return 'financial_analyst'\n",
    "    \n",
    "    elif 'sale' in value:\n",
    "        return 'financial_analyst'\n",
    "    \n",
    "    else:\n",
    "        return 'analyst'\n",
    "        \n",
    "df['job_title'] = df['job_title'].apply(clean_title)\n",
    "df['job_title'].unique()"
   ]
  },
  {
   "cell_type": "markdown",
   "metadata": {},
   "source": [
    "company name"
   ]
  },
  {
   "cell_type": "code",
   "execution_count": null,
   "metadata": {},
   "outputs": [],
   "source": [
    "df['employer_name'].unique()"
   ]
  },
  {
   "cell_type": "code",
   "execution_count": null,
   "metadata": {},
   "outputs": [],
   "source": [
    "df['employer_name'] = df['employer_name'].str.replace('[^a-zA-Z0-9_]', '')\n",
    "\n",
    "def clean_employer_name(value):\n",
    "    if 'financ' in value:\n",
    "        return 'finance'\n",
    "    \n",
    "    elif 'invest' in value:\n",
    "        return 'finance'\n",
    "    \n",
    "    elif 'capital' in value:\n",
    "        return 'finance'\n",
    "\n",
    "    elif 'wealth' in value:\n",
    "        return 'finance'\n",
    "    \n",
    "    elif 'manage' in value:\n",
    "        return 'finance'\n",
    "    \n",
    "    elif 'credit' in value:\n",
    "        return 'finance'\n",
    "    \n",
    "    elif 'business' in value:\n",
    "        return 'finance'\n",
    "    \n",
    "    elif 'trans' in value:\n",
    "        return 'transportation'\n",
    "    \n",
    "    elif 'express' in value:\n",
    "        return 'transportation'\n",
    "    \n",
    "    elif 'rail' in value:\n",
    "        return 'transportation'\n",
    "\n",
    "    elif 'media' in value:\n",
    "        return 'media'\n",
    "    \n",
    "    elif 'bank' in value:\n",
    "        return 'banking'\n",
    "    \n",
    "    elif 'city' in value:\n",
    "        return 'government'\n",
    "    \n",
    "    elif 'public' in value:\n",
    "        return 'government'\n",
    "    \n",
    "    elif 'police' in value:\n",
    "        return 'government'\n",
    "    \n",
    "    elif 'govern' in value:\n",
    "        return 'government'\n",
    "    \n",
    "    elif 'energy' in value:\n",
    "        return 'energy'\n",
    "\n",
    "    elif 'nuclear' in value:\n",
    "        return 'energy'\n",
    "    \n",
    "    elif 'elect' in value:\n",
    "        return 'energy'\n",
    "    \n",
    "    elif 'spark' in value:\n",
    "        return 'energy'\n",
    "    \n",
    "    elif 'insurance' in value:\n",
    "        return 'insurance'\n",
    "    \n",
    "    elif 'college' in value:\n",
    "        return 'education'\n",
    "    \n",
    "    elif 'university' in value:\n",
    "        return 'education'\n",
    "    \n",
    "    elif 'school' in value:\n",
    "        return 'education'\n",
    "    \n",
    "    elif 'edu' in value:\n",
    "        return 'education'\n",
    "    \n",
    "    elif 'health' in value:\n",
    "        return 'healthcare'\n",
    "    \n",
    "    elif 'hospital' in value:\n",
    "        return 'healthcare'\n",
    "    \n",
    "    elif 'medic' in value:\n",
    "        return 'healthcare'\n",
    "    \n",
    "    elif 'pharma' in value:\n",
    "        return 'healthcare'\n",
    "    \n",
    "    elif 'care' in value:\n",
    "        return 'healthcare'\n",
    "    \n",
    "    elif 'farm' in value:\n",
    "        return 'agriculture'\n",
    "    \n",
    "    elif 'metal' in value:\n",
    "        return 'manufacturing'\n",
    "    \n",
    "    elif 'engineer' in value:\n",
    "        return 'manufacturing'\n",
    "    \n",
    "    elif 'manufactur' in value:\n",
    "        return 'manufacturing'\n",
    "    \n",
    "    elif 'machine' in value:\n",
    "        return 'manufacturing'\n",
    "    \n",
    "    elif 'construction' in value:\n",
    "        return 'construction'\n",
    "    \n",
    "    elif 'contracting' in value:\n",
    "        return 'construction'\n",
    "    \n",
    "    elif 'tech' in value:\n",
    "        return 'technology'\n",
    "    \n",
    "    elif 'web' in value:\n",
    "        return 'technology'\n",
    "    \n",
    "    elif 'soft' in value:\n",
    "        return 'technology'\n",
    "    \n",
    "    elif 'systems' in value:\n",
    "        return 'technology'\n",
    "    \n",
    "    elif 'amazon' in value:\n",
    "        return 'technology'\n",
    "    \n",
    "    elif 'estate' in value:\n",
    "        return 'real_estate'\n",
    "\n",
    "    elif 'properties' in value:\n",
    "        return 'real_estate'\n",
    "    \n",
    "    elif 'property' in value:\n",
    "        return 'real_estate'\n",
    "    \n",
    "    elif 'macdonald' in value:\n",
    "        return 'real_estate'\n",
    "    \n",
    "    elif 'consult' in value:\n",
    "        return 'consulting'\n",
    "    \n",
    "    elif 'communication' in value:\n",
    "        return 'telecommunication'\n",
    "    \n",
    "    elif 'radio' in value:\n",
    "        return 'telecommunication'\n",
    "    \n",
    "    elif 'food' in value:\n",
    "        return 'retail'\n",
    "    \n",
    "    elif 'walmart' in value:\n",
    "        return 'retail'\n",
    "    \n",
    "    elif 'pepsico' in value:\n",
    "        return 'retail'\n",
    "    \n",
    "    elif 'supermarket' in value:\n",
    "        return 'retail'\n",
    "    \n",
    "    elif 'resort' in value:\n",
    "        return 'travel'\n",
    "    \n",
    "    elif 'travel' in value:\n",
    "        return 'travel'\n",
    "    \n",
    "    elif 'air' in value:\n",
    "        return 'aerospace'\n",
    "    \n",
    "    elif 'flight' in value:\n",
    "        return 'aerospace'\n",
    "    \n",
    "    elif 'aviation' in value:\n",
    "        return 'aerospace'\n",
    "    \n",
    "    elif 'aero' in value:\n",
    "        return 'aerospace'\n",
    "    \n",
    "    elif 'auto' in value:\n",
    "        return 'automobile'\n",
    "    \n",
    "    elif 'driv' in value:\n",
    "        return 'automobile'\n",
    "    \n",
    "    elif 'service' in value:\n",
    "        return 'service'\n",
    "    \n",
    "    else:\n",
    "        return 'other'\n",
    "        \n",
    "df['industry'] = df['employer_name'].apply(clean_employer_name)\n",
    "df['industry'].unique()"
   ]
  },
  {
   "cell_type": "markdown",
   "metadata": {},
   "source": [
    "work location"
   ]
  },
  {
   "cell_type": "code",
   "execution_count": null,
   "metadata": {},
   "outputs": [],
   "source": [
    "df['city'].unique()"
   ]
  },
  {
   "cell_type": "code",
   "execution_count": null,
   "metadata": {},
   "outputs": [],
   "source": [
    "df['city'] = df['city'].str.replace('[^_a-zA-Z]', '')\n",
    "\n",
    "def work_location(value):\n",
    "    if 'remote' in  value:\n",
    "        return 'remote'\n",
    "    else:\n",
    "        return 'on-site'\n",
    "\n",
    "df['work_location'] = df['city'].apply(work_location)\n",
    "df['work_location'].unique()"
   ]
  },
  {
   "cell_type": "code",
   "execution_count": null,
   "metadata": {},
   "outputs": [],
   "source": [
    "def clean_city(value):\n",
    "    if value.startswith('remote_in_'):\n",
    "        return value[10:]\n",
    "    \n",
    "    elif 'vancouver' in  value:\n",
    "        return 'vancouver'\n",
    "    \n",
    "    elif 'toronto' in  value:\n",
    "        return 'toronto'\n",
    "    \n",
    "    elif value.startswith('_'):\n",
    "        return value[1:]\n",
    "    else:\n",
    "        return value\n",
    "\n",
    "df['city'] = df['city'].str.replace('montral', 'montreal')\n",
    "df['city'] = df['city'].apply(clean_city)\n",
    "df['city'].unique()"
   ]
  },
  {
   "cell_type": "markdown",
   "metadata": {},
   "source": [
    "province"
   ]
  },
  {
   "cell_type": "code",
   "execution_count": null,
   "metadata": {},
   "outputs": [],
   "source": [
    "df['province'].unique()"
   ]
  },
  {
   "cell_type": "code",
   "execution_count": null,
   "metadata": {},
   "outputs": [],
   "source": [
    "df['province'] = df['province'].replace('unknown', 'unspecified')\n",
    "df['province'].unique()"
   ]
  },
  {
   "cell_type": "markdown",
   "metadata": {},
   "source": [
    "salary"
   ]
  },
  {
   "cell_type": "code",
   "execution_count": null,
   "metadata": {},
   "outputs": [],
   "source": [
    "df['salary'] = df['salary'].str.replace('[^a-zA-Z0-9$.-]', '')\n",
    "df['salary'].unique()"
   ]
  },
  {
   "cell_type": "code",
   "execution_count": null,
   "metadata": {},
   "outputs": [],
   "source": [
    "df['salary'] = df['salary'].str.replace('glassdoorest', '')\n",
    "df['salary'] = df['salary'].str.replace('employerest', '')\n",
    "df['salary'] = df['salary'].str.replace('k', '000')\n",
    "df['salary'] = df['salary'].str.replace('ayear', '')\n",
    "df['salary'] = df['salary'].str.replace('perhour', '')\n",
    "df['salary'] = df['salary'].str.replace('anhour', '')\n",
    "df['salary'] = df['salary'].str.replace('peryear', '')\n",
    "\n",
    "df['salary'] = df['salary'][df['salary'].str.len() < 20]\n",
    "df['salary'] = df['salary'].str.replace('[^0-9$-.]', '')\n",
    "\n",
    "df['salary'] = df['salary'].str.replace('$', '-')\n",
    "df['salary'] = df['salary'].str.replace('--', '-')\n",
    "df['salary'].unique()"
   ]
  },
  {
   "cell_type": "code",
   "execution_count": null,
   "metadata": {},
   "outputs": [],
   "source": [
    "def format_sal(value):\n",
    "    if str(value).startswith('-'):\n",
    "        return value[1:]\n",
    "    else:\n",
    "        return value\n",
    "    \n",
    "df['salary'] = df['salary'].apply(format_sal)\n",
    "df['salary'].unique()"
   ]
  },
  {
   "cell_type": "code",
   "execution_count": null,
   "metadata": {},
   "outputs": [],
   "source": [
    "def format_sal_2(value):\n",
    "    if str(value).endswith('.'):\n",
    "        return value[:-1]\n",
    "    else:\n",
    "        return value\n",
    "    \n",
    "df['salary'] = df['salary'].apply(format_sal_2)\n",
    "df['salary'] = df['salary'].replace('000', '0')\n",
    "df['salary'].fillna('0', inplace=True)\n",
    "df['salary'].unique()"
   ]
  },
  {
   "cell_type": "code",
   "execution_count": null,
   "metadata": {},
   "outputs": [],
   "source": [
    "new = df['salary'].str.split('-', n=1, expand=True)\n",
    "\n",
    "df['min_salary'] = new[0]\n",
    "df['max_salary'] = new[1]\n",
    "df.head()"
   ]
  },
  {
   "cell_type": "code",
   "execution_count": null,
   "metadata": {},
   "outputs": [],
   "source": [
    "df['min_salary'].unique()"
   ]
  },
  {
   "cell_type": "code",
   "execution_count": null,
   "metadata": {},
   "outputs": [],
   "source": [
    "df['min_salary'] = df['min_salary'].replace('000', '0')\n",
    "df['min_salary'] = df['min_salary'].replace('', '0')\n",
    "\n",
    "def repeating_sal_value(value):\n",
    "    if len(str(value)) <= 1:\n",
    "        return str(value)\n",
    "    \n",
    "    if str(value)[0:5] == str(value)[5:10]:\n",
    "        return str(value)[5:]\n",
    "    \n",
    "    elif str(value)[0:6] == str(value)[6:12]:\n",
    "        return str(value)[6:]\n",
    "    \n",
    "    else:\n",
    "        return str(value)\n",
    "\n",
    "\n",
    "df['min_salary'] = df['min_salary'].apply(repeating_sal_value)\n",
    "df['min_salary'].unique()"
   ]
  },
  {
   "cell_type": "code",
   "execution_count": 31,
   "metadata": {},
   "outputs": [],
   "source": [
    "df['min_salary'] = df['min_salary'].astype('float')\n",
    "\n",
    "def hourly_pay_to_annual(value):\n",
    "    if value < 999:\n",
    "        return (value * 2080)\n",
    "    else:\n",
    "        return value\n",
    "\n",
    "df['min_salary'] = df['min_salary'].apply(hourly_pay_to_annual)"
   ]
  },
  {
   "cell_type": "code",
   "execution_count": null,
   "metadata": {},
   "outputs": [],
   "source": [
    "df['max_salary'].unique()"
   ]
  },
  {
   "cell_type": "code",
   "execution_count": null,
   "metadata": {},
   "outputs": [],
   "source": [
    "df['max_salary'] = df['max_salary'].str.replace('-', '')\n",
    "df['max_salary'] = df['max_salary'][df['max_salary'].str.len() < 7]\n",
    "df['max_salary'].fillna('0', inplace=True)\n",
    "df['max_salary'].unique()"
   ]
  },
  {
   "cell_type": "code",
   "execution_count": 34,
   "metadata": {},
   "outputs": [],
   "source": [
    "df['max_salary'] = df['max_salary'].astype('float')\n",
    "df['max_salary'] = df['max_salary'].apply(hourly_pay_to_annual)"
   ]
  },
  {
   "cell_type": "code",
   "execution_count": null,
   "metadata": {},
   "outputs": [],
   "source": [
    "df['avg_salary'] = (df[df['min_salary'] > 0]['min_salary'] + df[df['max_salary'] > 0]['max_salary'] / 2).round(2)\n",
    "df = df.drop(columns=['salary'])\n",
    "df.info()\n",
    "df.head()"
   ]
  },
  {
   "cell_type": "code",
   "execution_count": null,
   "metadata": {},
   "outputs": [],
   "source": [
    "print(df[df['min_salary'] > 0].groupby('job_title')['min_salary'].mean().round(2))\n",
    "print(df[df['max_salary'] > 0].groupby('job_title')['max_salary'].mean().round(2))\n",
    "print(df[df['avg_salary'] > 0].groupby('job_title')['avg_salary'].mean().round(2))"
   ]
  },
  {
   "cell_type": "code",
   "execution_count": null,
   "metadata": {},
   "outputs": [],
   "source": [
    "print(df[df['min_salary'] > 0].groupby('job_title')['min_salary'].median())\n",
    "print(df[df['max_salary'] > 0].groupby('job_title')['max_salary'].median())\n",
    "print(df[df['avg_salary'] > 0].groupby('job_title')['avg_salary'].median())"
   ]
  },
  {
   "cell_type": "code",
   "execution_count": null,
   "metadata": {},
   "outputs": [],
   "source": [
    "med_fillin = df[(df['min_salary'] > 0) & (df['max_salary'] > 0) & (df['avg_salary'] > 0)].groupby('job_title').agg({'min_salary': 'median',\n",
    "                                                                                                                    'max_salary': 'median',\n",
    "                                                                                                                    'avg_salary': 'median'})\n",
    "\n",
    "med_fillin.columns = ['median_min_sal', 'median_max_sal', 'median_avg_sal']\n",
    "med_fillin = med_fillin.round(2)\n",
    "med_fillin"
   ]
  },
  {
   "cell_type": "code",
   "execution_count": null,
   "metadata": {},
   "outputs": [],
   "source": [
    "(df['min_salary'] == 0).count()"
   ]
  },
  {
   "cell_type": "code",
   "execution_count": null,
   "metadata": {},
   "outputs": [],
   "source": [
    "(df['max_salary'] == 0).count()"
   ]
  },
  {
   "cell_type": "code",
   "execution_count": null,
   "metadata": {},
   "outputs": [],
   "source": [
    "(df['avg_salary'] == 0).count()"
   ]
  },
  {
   "cell_type": "code",
   "execution_count": 42,
   "metadata": {},
   "outputs": [],
   "source": [
    "df.loc[((df['job_title'] == 'analyst') & (df['min_salary'] == 0)), 'min_salary'] = (med_fillin['median_min_sal'][0])\n",
    "df.loc[((df['job_title'] == 'analyst') & (df['max_salary'] == 0)), 'max_salary'] = (med_fillin['median_max_sal'][0])\n",
    "df.loc[((df['job_title'] == 'analyst') & (df['avg_salary'] == 0)), 'avg_salary'] = (med_fillin['median_avg_sal'][0])\n",
    "\n",
    "df.loc[((df['job_title'] == 'business_analyst') & (df['min_salary'] == 0)), 'min_salary'] = (med_fillin['median_min_sal'][1])\n",
    "df.loc[((df['job_title'] == 'business_analyst') & (df['max_salary'] == 0)), 'max_salary'] = (med_fillin['median_max_sal'][1])\n",
    "df.loc[((df['job_title'] == 'business_analyst') & (df['avg_salary'] == 0)), 'avg_salary'] = (med_fillin['median_avg_sal'][1])\n",
    "\n",
    "df.loc[((df['job_title'] == 'business_intelligence_analyst') & (df['min_salary'] == 0)), 'min_salary'] = (med_fillin['median_min_sal'][2])\n",
    "df.loc[((df['job_title'] == 'business_intelligence_analyst') & (df['max_salary'] == 0)), 'max_salary'] = (med_fillin['median_max_sal'][2])\n",
    "df.loc[((df['job_title'] == 'business_intelligence_analyst') & (df['avg_salary'] == 0)), 'avg_salary'] = (med_fillin['median_avg_sal'][2])\n",
    "\n",
    "df.loc[((df['job_title'] == 'business_systems_analyst') & (df['min_salary'] == 0)), 'min_salary'] = (med_fillin['median_min_sal'][3])\n",
    "df.loc[((df['job_title'] == 'business_systems_analyst') & (df['max_salary'] == 0)), 'max_salary'] = (med_fillin['median_max_sal'][3])\n",
    "df.loc[((df['job_title'] == 'business_systems_analyst') & (df['avg_salary'] == 0)), 'avg_salary'] = (med_fillin['median_avg_sal'][3])\n",
    "\n",
    "df.loc[((df['job_title'] == 'data_analyst') & (df['min_salary'] == 0)), 'min_salary'] = (med_fillin['median_min_sal'][4])\n",
    "df.loc[((df['job_title'] == 'data_analyst') & (df['max_salary'] == 0)), 'max_salary'] = (med_fillin['median_max_sal'][4])\n",
    "df.loc[((df['job_title'] == 'data_analyst') & (df['avg_salary'] == 0)), 'avg_salary'] = (med_fillin['median_avg_sal'][4])\n",
    "\n",
    "df.loc[((df['job_title'] == 'data_engineer') & (df['min_salary'] == 0)), 'min_salary'] = (med_fillin['median_min_sal'][5])\n",
    "df.loc[((df['job_title'] == 'data_engineer') & (df['max_salary'] == 0)), 'max_salary'] = (med_fillin['median_max_sal'][5])\n",
    "df.loc[((df['job_title'] == 'data_engineer') & (df['avg_salary'] == 0)), 'avg_salary'] = (med_fillin['median_avg_sal'][5])\n",
    "\n",
    "df.loc[((df['job_title'] == 'data_scientist') & (df['min_salary'] == 0)), 'min_salary'] = (med_fillin['median_min_sal'][6])\n",
    "df.loc[((df['job_title'] == 'data_scientist') & (df['max_salary'] == 0)), 'max_salary'] = (med_fillin['median_max_sal'][6])\n",
    "df.loc[((df['job_title'] == 'data_scientist') & (df['avg_salary'] == 0)), 'avg_salary'] = (med_fillin['median_avg_sal'][6])\n",
    "\n",
    "df.loc[((df['job_title'] == 'financial_analyst') & (df['min_salary'] == 0)), 'min_salary'] = (med_fillin['median_min_sal'][7])\n",
    "df.loc[((df['job_title'] == 'financial_analyst') & (df['max_salary'] == 0)), 'max_salary'] = (med_fillin['median_max_sal'][7])\n",
    "df.loc[((df['job_title'] == 'financial_analyst') & (df['avg_salary'] == 0)), 'avg_salary'] = (med_fillin['median_avg_sal'][7])\n",
    "\n",
    "df.loc[((df['job_title'] == 'marketing_analyst') & (df['min_salary'] == 0)), 'min_salary'] = (med_fillin['median_min_sal'][8])\n",
    "df.loc[((df['job_title'] == 'marketing_analyst') & (df['max_salary'] == 0)), 'max_salary'] = (med_fillin['median_max_sal'][8])\n",
    "df.loc[((df['job_title'] == 'marketing_analyst') & (df['avg_salary'] == 0)), 'avg_salary'] = (med_fillin['median_avg_sal'][8])\n",
    "\n",
    "df.loc[((df['job_title'] == 'quality_analyst') & (df['min_salary'] == 0)), 'min_salary'] = (med_fillin['median_min_sal'][9])\n",
    "df.loc[((df['job_title'] == 'quality_analyst') & (df['max_salary'] == 0)), 'max_salary'] = (med_fillin['median_max_sal'][9])\n",
    "df.loc[((df['job_title'] == 'quality_analyst') & (df['avg_salary'] == 0)), 'avg_salary'] = (med_fillin['median_avg_sal'][9])\n",
    "\n",
    "df.loc[((df['job_title'] == 'research_analyst') & (df['min_salary'] == 0)), 'min_salary'] = (med_fillin['median_min_sal'][10])\n",
    "df.loc[((df['job_title'] == 'research_analyst') & (df['max_salary'] == 0)), 'max_salary'] = (med_fillin['median_max_sal'][10])\n",
    "df.loc[((df['job_title'] == 'research_analyst') & (df['avg_salary'] == 0)), 'avg_salary'] = (med_fillin['median_avg_sal'][10])\n",
    "\n",
    "df.loc[((df['job_title'] == 'risk_analyst') & (df['min_salary'] == 0)), 'min_salary'] = (med_fillin['median_min_sal'][11])\n",
    "df.loc[((df['job_title'] == 'risk_analyst') & (df['max_salary'] == 0)), 'max_salary'] = (med_fillin['median_max_sal'][11])\n",
    "df.loc[((df['job_title'] == 'risk_analyst') & (df['avg_salary'] == 0)), 'avg_salary'] = (med_fillin['median_avg_sal'][11])"
   ]
  },
  {
   "cell_type": "markdown",
   "metadata": {},
   "source": [
    "web_platform"
   ]
  },
  {
   "cell_type": "code",
   "execution_count": null,
   "metadata": {},
   "outputs": [],
   "source": [
    "df['web_platform'].unique()"
   ]
  },
  {
   "cell_type": "code",
   "execution_count": null,
   "metadata": {},
   "outputs": [],
   "source": [
    "def clean_web(value):\n",
    "    if value.startswith('https://ca.indeed'):\n",
    "        return 'indeed'\n",
    "\n",
    "    elif value.startswith('https://www.glassdoor'):\n",
    "        return 'glassdoor'\n",
    "        \n",
    "df['web_platform'] = df['web_platform'].apply(clean_web)\n",
    "df['web_platform'].unique()"
   ]
  },
  {
   "cell_type": "markdown",
   "metadata": {},
   "source": [
    "[Back to Table of Contents](#back)"
   ]
  },
  {
   "cell_type": "markdown",
   "metadata": {},
   "source": [
    "## Exploratory Data Analysis"
   ]
  },
  {
   "cell_type": "markdown",
   "metadata": {},
   "source": []
  },
  {
   "cell_type": "code",
   "execution_count": null,
   "metadata": {},
   "outputs": [],
   "source": [
    "df.head()"
   ]
  },
  {
   "cell_type": "code",
   "execution_count": null,
   "metadata": {},
   "outputs": [],
   "source": [
    "df[df['city'] != 'remote']['city'].value_counts().sort_values(ascending=False).head(20)"
   ]
  },
  {
   "cell_type": "code",
   "execution_count": null,
   "metadata": {},
   "outputs": [],
   "source": [
    "# Create a map centered on Canada\n",
    "canada_map = folium.Map(location=[56.1304, -106.3468],\n",
    "                        zoom_start=4,\n",
    "                        tiles='cartodb positron')\n",
    "\n",
    "# Locations of top 10 hubs with most job postings (non-remote)\n",
    "top_10_cities = [['43.6532', '-79.3832', 'Toronto', '446 Job Openings'],\n",
    "                 ['43.5953', '-79.6405', 'Mississauga', '117 Job Openings'],\n",
    "                 ['49.2462', '-123.1162', 'Vancouver', '114 Job Openings'],\n",
    "                 ['45.5088', '-73.5616', 'Montreal', '104 Job Openings'],\n",
    "                 ['51.0499', '-114.0666', 'Calgary', '101 Job Openings'],\n",
    "                 ['53.6316', '-113.3239', 'Edmonton', '60 Job Openings'],\n",
    "                 ['43.8560', '-79.3370', 'Markham', '49 Job Openings'],\n",
    "                 ['45.4247', '-75.6950', 'Ottawa', '48 Job Openings'],\n",
    "                 ['43.7315', '-79.7666', 'Brampton', '38 Job Openings'],\n",
    "                 ['49.8950', '-97.1384', 'Winnipeg', '30 Job Openings']]\n",
    "\n",
    "# Loop for map markers\n",
    "for row in top_10_cities:\n",
    "    folium.Marker(location=[row[0], row[1]],\n",
    "                  tooltip=row[3],\n",
    "                  popup=row[2],\n",
    "                  icon=folium.Icon(color='red',\n",
    "                                    icon='info-sign')).add_to(canada_map)\n",
    "    \n",
    "    folium.CircleMarker(location=[row[0], row[1]],\n",
    "                        radius=10,\n",
    "                        popup=row[2],\n",
    "                        color='red',\n",
    "                        fill=True,\n",
    "                        fill_color='red').add_to(canada_map)\n",
    "    \n",
    "canada_map.save('canada_map.html')\n",
    "canada_map"
   ]
  },
  {
   "cell_type": "markdown",
   "metadata": {},
   "source": []
  },
  {
   "cell_type": "markdown",
   "metadata": {},
   "source": []
  },
  {
   "cell_type": "markdown",
   "metadata": {},
   "source": []
  },
  {
   "cell_type": "markdown",
   "metadata": {},
   "source": []
  },
  {
   "cell_type": "markdown",
   "metadata": {},
   "source": []
  },
  {
   "cell_type": "markdown",
   "metadata": {},
   "source": []
  },
  {
   "cell_type": "markdown",
   "metadata": {},
   "source": []
  },
  {
   "cell_type": "markdown",
   "metadata": {},
   "source": []
  },
  {
   "cell_type": "code",
   "execution_count": null,
   "metadata": {},
   "outputs": [],
   "source": []
  },
  {
   "cell_type": "markdown",
   "metadata": {},
   "source": [
    "[Back to Table of Contents](#back)"
   ]
  },
  {
   "cell_type": "markdown",
   "metadata": {},
   "source": [
    "## Conclusions and Reccomendations"
   ]
  },
  {
   "cell_type": "markdown",
   "metadata": {},
   "source": [
    "[Back to Table of Contents](#back)"
   ]
  },
  {
   "cell_type": "markdown",
   "metadata": {},
   "source": [
    "## Dataset Citation\n",
    "\n",
    "syntax:\n",
    "[Dataset creator's name]. ([Year &amp; Month of dataset creation]). [Name of the dataset], [Version of the dataset]. Retrieved [Date Retrieved] from [Kaggle](URL of the dataset).\n",
    "\n",
    "example:\n",
    "Tatman, R. (2017, November). R vs. Python: The Kitchen Gadget Test, Version 1. Retrieved December 20, 2017 from https://www.kaggle.com/rtatman/r-vs-python-the-kitchen-gadget-test."
   ]
  },
  {
   "cell_type": "markdown",
   "metadata": {},
   "source": [
    "[Back to Table of Contents](#back)"
   ]
  }
 ],
 "metadata": {
  "kernelspec": {
   "display_name": "base",
   "language": "python",
   "name": "python3"
  },
  "language_info": {
   "codemirror_mode": {
    "name": "ipython",
    "version": 3
   },
   "file_extension": ".py",
   "mimetype": "text/x-python",
   "name": "python",
   "nbconvert_exporter": "python",
   "pygments_lexer": "ipython3",
   "version": "3.10.9"
  },
  "orig_nbformat": 4
 },
 "nbformat": 4,
 "nbformat_minor": 2
}
